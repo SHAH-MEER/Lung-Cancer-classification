{
 "cells": [
  {
   "cell_type": "code",
   "execution_count": 1,
   "id": "0d4d0fc2",
   "metadata": {
    "_cell_guid": "b1076dfc-b9ad-4769-8c92-a6c4dae69d19",
    "_uuid": "8f2839f25d086af736a60e9eeb907d3b93b6e0e5",
    "execution": {
     "iopub.execute_input": "2025-03-12T18:37:19.139625Z",
     "iopub.status.busy": "2025-03-12T18:37:19.139279Z",
     "iopub.status.idle": "2025-03-12T18:37:20.289718Z",
     "shell.execute_reply": "2025-03-12T18:37:20.288782Z"
    },
    "papermill": {
     "duration": 1.159467,
     "end_time": "2025-03-12T18:37:20.291169",
     "exception": false,
     "start_time": "2025-03-12T18:37:19.131702",
     "status": "completed"
    },
    "tags": []
   },
   "outputs": [
    {
     "name": "stdout",
     "output_type": "stream",
     "text": [
      "/kaggle/input/lung-cancer-prediction-dataset/Lung Cancer Dataset.csv\n"
     ]
    }
   ],
   "source": [
    "# This Python 3 environment comes with many helpful analytics libraries installed\n",
    "# It is defined by the kaggle/python Docker image: https://github.com/kaggle/docker-python\n",
    "# For example, here's several helpful packages to load\n",
    "\n",
    "import numpy as np # linear algebra\n",
    "import pandas as pd # data processing, CSV file I/O (e.g. pd.read_csv)\n",
    "\n",
    "# Input data files are available in the read-only \"../input/\" directory\n",
    "# For example, running this (by clicking run or pressing Shift+Enter) will list all files under the input directory\n",
    "\n",
    "import os\n",
    "for dirname, _, filenames in os.walk('/kaggle/input'):\n",
    "    for filename in filenames:\n",
    "        print(os.path.join(dirname, filename))\n",
    "\n",
    "# You can write up to 20GB to the current directory (/kaggle/working/) that gets preserved as output when you create a version using \"Save & Run All\" \n",
    "# You can also write temporary files to /kaggle/temp/, but they won't be saved outside of the current session"
   ]
  },
  {
   "cell_type": "markdown",
   "id": "796b48a8",
   "metadata": {
    "papermill": {
     "duration": 0.007257,
     "end_time": "2025-03-12T18:37:20.305416",
     "exception": false,
     "start_time": "2025-03-12T18:37:20.298159",
     "status": "completed"
    },
    "tags": []
   },
   "source": [
    "# Import Libraries"
   ]
  },
  {
   "cell_type": "code",
   "execution_count": 2,
   "id": "90268dff",
   "metadata": {
    "execution": {
     "iopub.execute_input": "2025-03-12T18:37:20.320422Z",
     "iopub.status.busy": "2025-03-12T18:37:20.319917Z",
     "iopub.status.idle": "2025-03-12T18:37:23.017930Z",
     "shell.execute_reply": "2025-03-12T18:37:23.016910Z"
    },
    "papermill": {
     "duration": 2.707245,
     "end_time": "2025-03-12T18:37:23.019766",
     "exception": false,
     "start_time": "2025-03-12T18:37:20.312521",
     "status": "completed"
    },
    "tags": []
   },
   "outputs": [],
   "source": [
    "# Data manipulation and visualisation\n",
    "import pandas as pd\n",
    "import matplotlib.pyplot as plt\n",
    "import seaborn as sns\n",
    "\n",
    "#WARNINGS\n",
    "from warnings import filterwarnings\n",
    "filterwarnings(\"ignore\")\n",
    "\n",
    "#Data preprocessing\n",
    "from sklearn.preprocessing import LabelEncoder\n",
    "\n",
    "#Models\n",
    "from sklearn.linear_model import LogisticRegression\n",
    "from sklearn.tree import DecisionTreeClassifier\n",
    "from sklearn.ensemble import RandomForestClassifier\n",
    "\n",
    "#Metrics\n",
    "from sklearn.metrics import accuracy_score, classification_report, ConfusionMatrixDisplay\n",
    "\n",
    "#Model Testing\n",
    "from sklearn.model_selection import train_test_split, GridSearchCV\n"
   ]
  },
  {
   "cell_type": "markdown",
   "id": "84586fcc",
   "metadata": {
    "papermill": {
     "duration": 0.006741,
     "end_time": "2025-03-12T18:37:23.032781",
     "exception": false,
     "start_time": "2025-03-12T18:37:23.026040",
     "status": "completed"
    },
    "tags": []
   },
   "source": [
    "# Import Data\n"
   ]
  },
  {
   "cell_type": "markdown",
   "id": "f8b99aad",
   "metadata": {
    "papermill": {
     "duration": 0.005674,
     "end_time": "2025-03-12T18:37:23.044513",
     "exception": false,
     "start_time": "2025-03-12T18:37:23.038839",
     "status": "completed"
    },
    "tags": []
   },
   "source": [
    "**Task 1.1** Import Dataset and load into a DataFrame"
   ]
  },
  {
   "cell_type": "code",
   "execution_count": 3,
   "id": "0e1d61a5",
   "metadata": {
    "execution": {
     "iopub.execute_input": "2025-03-12T18:37:23.058423Z",
     "iopub.status.busy": "2025-03-12T18:37:23.057974Z",
     "iopub.status.idle": "2025-03-12T18:37:23.113041Z",
     "shell.execute_reply": "2025-03-12T18:37:23.111810Z"
    },
    "papermill": {
     "duration": 0.06373,
     "end_time": "2025-03-12T18:37:23.114876",
     "exception": false,
     "start_time": "2025-03-12T18:37:23.051146",
     "status": "completed"
    },
    "tags": []
   },
   "outputs": [
    {
     "name": "stdout",
     "output_type": "stream",
     "text": [
      "Shape of DF (5000, 18)\n"
     ]
    },
    {
     "data": {
      "text/html": [
       "<div>\n",
       "<style scoped>\n",
       "    .dataframe tbody tr th:only-of-type {\n",
       "        vertical-align: middle;\n",
       "    }\n",
       "\n",
       "    .dataframe tbody tr th {\n",
       "        vertical-align: top;\n",
       "    }\n",
       "\n",
       "    .dataframe thead th {\n",
       "        text-align: right;\n",
       "    }\n",
       "</style>\n",
       "<table border=\"1\" class=\"dataframe\">\n",
       "  <thead>\n",
       "    <tr style=\"text-align: right;\">\n",
       "      <th></th>\n",
       "      <th>AGE</th>\n",
       "      <th>GENDER</th>\n",
       "      <th>SMOKING</th>\n",
       "      <th>FINGER_DISCOLORATION</th>\n",
       "      <th>MENTAL_STRESS</th>\n",
       "      <th>EXPOSURE_TO_POLLUTION</th>\n",
       "      <th>LONG_TERM_ILLNESS</th>\n",
       "      <th>ENERGY_LEVEL</th>\n",
       "      <th>IMMUNE_WEAKNESS</th>\n",
       "      <th>BREATHING_ISSUE</th>\n",
       "      <th>ALCOHOL_CONSUMPTION</th>\n",
       "      <th>THROAT_DISCOMFORT</th>\n",
       "      <th>OXYGEN_SATURATION</th>\n",
       "      <th>CHEST_TIGHTNESS</th>\n",
       "      <th>FAMILY_HISTORY</th>\n",
       "      <th>SMOKING_FAMILY_HISTORY</th>\n",
       "      <th>STRESS_IMMUNE</th>\n",
       "      <th>PULMONARY_DISEASE</th>\n",
       "    </tr>\n",
       "  </thead>\n",
       "  <tbody>\n",
       "    <tr>\n",
       "      <th>0</th>\n",
       "      <td>68</td>\n",
       "      <td>1</td>\n",
       "      <td>1</td>\n",
       "      <td>1</td>\n",
       "      <td>1</td>\n",
       "      <td>1</td>\n",
       "      <td>0</td>\n",
       "      <td>57.831178</td>\n",
       "      <td>0</td>\n",
       "      <td>0</td>\n",
       "      <td>1</td>\n",
       "      <td>1</td>\n",
       "      <td>95.977287</td>\n",
       "      <td>1</td>\n",
       "      <td>0</td>\n",
       "      <td>0</td>\n",
       "      <td>0</td>\n",
       "      <td>NO</td>\n",
       "    </tr>\n",
       "    <tr>\n",
       "      <th>1</th>\n",
       "      <td>81</td>\n",
       "      <td>1</td>\n",
       "      <td>1</td>\n",
       "      <td>0</td>\n",
       "      <td>0</td>\n",
       "      <td>1</td>\n",
       "      <td>1</td>\n",
       "      <td>47.694835</td>\n",
       "      <td>1</td>\n",
       "      <td>1</td>\n",
       "      <td>0</td>\n",
       "      <td>1</td>\n",
       "      <td>97.184483</td>\n",
       "      <td>0</td>\n",
       "      <td>0</td>\n",
       "      <td>0</td>\n",
       "      <td>0</td>\n",
       "      <td>YES</td>\n",
       "    </tr>\n",
       "    <tr>\n",
       "      <th>2</th>\n",
       "      <td>58</td>\n",
       "      <td>1</td>\n",
       "      <td>1</td>\n",
       "      <td>0</td>\n",
       "      <td>0</td>\n",
       "      <td>0</td>\n",
       "      <td>0</td>\n",
       "      <td>59.577435</td>\n",
       "      <td>0</td>\n",
       "      <td>1</td>\n",
       "      <td>1</td>\n",
       "      <td>0</td>\n",
       "      <td>94.974939</td>\n",
       "      <td>0</td>\n",
       "      <td>0</td>\n",
       "      <td>0</td>\n",
       "      <td>0</td>\n",
       "      <td>NO</td>\n",
       "    </tr>\n",
       "    <tr>\n",
       "      <th>3</th>\n",
       "      <td>44</td>\n",
       "      <td>0</td>\n",
       "      <td>1</td>\n",
       "      <td>0</td>\n",
       "      <td>1</td>\n",
       "      <td>1</td>\n",
       "      <td>0</td>\n",
       "      <td>59.785767</td>\n",
       "      <td>0</td>\n",
       "      <td>1</td>\n",
       "      <td>0</td>\n",
       "      <td>1</td>\n",
       "      <td>95.187900</td>\n",
       "      <td>0</td>\n",
       "      <td>0</td>\n",
       "      <td>0</td>\n",
       "      <td>0</td>\n",
       "      <td>YES</td>\n",
       "    </tr>\n",
       "    <tr>\n",
       "      <th>4</th>\n",
       "      <td>72</td>\n",
       "      <td>0</td>\n",
       "      <td>1</td>\n",
       "      <td>1</td>\n",
       "      <td>1</td>\n",
       "      <td>1</td>\n",
       "      <td>1</td>\n",
       "      <td>59.733941</td>\n",
       "      <td>0</td>\n",
       "      <td>1</td>\n",
       "      <td>0</td>\n",
       "      <td>1</td>\n",
       "      <td>93.503008</td>\n",
       "      <td>0</td>\n",
       "      <td>0</td>\n",
       "      <td>0</td>\n",
       "      <td>0</td>\n",
       "      <td>YES</td>\n",
       "    </tr>\n",
       "  </tbody>\n",
       "</table>\n",
       "</div>"
      ],
      "text/plain": [
       "   AGE  GENDER  SMOKING  FINGER_DISCOLORATION  MENTAL_STRESS  \\\n",
       "0   68       1        1                     1              1   \n",
       "1   81       1        1                     0              0   \n",
       "2   58       1        1                     0              0   \n",
       "3   44       0        1                     0              1   \n",
       "4   72       0        1                     1              1   \n",
       "\n",
       "   EXPOSURE_TO_POLLUTION  LONG_TERM_ILLNESS  ENERGY_LEVEL  IMMUNE_WEAKNESS  \\\n",
       "0                      1                  0     57.831178                0   \n",
       "1                      1                  1     47.694835                1   \n",
       "2                      0                  0     59.577435                0   \n",
       "3                      1                  0     59.785767                0   \n",
       "4                      1                  1     59.733941                0   \n",
       "\n",
       "   BREATHING_ISSUE  ALCOHOL_CONSUMPTION  THROAT_DISCOMFORT  OXYGEN_SATURATION  \\\n",
       "0                0                    1                  1          95.977287   \n",
       "1                1                    0                  1          97.184483   \n",
       "2                1                    1                  0          94.974939   \n",
       "3                1                    0                  1          95.187900   \n",
       "4                1                    0                  1          93.503008   \n",
       "\n",
       "   CHEST_TIGHTNESS  FAMILY_HISTORY  SMOKING_FAMILY_HISTORY  STRESS_IMMUNE  \\\n",
       "0                1               0                       0              0   \n",
       "1                0               0                       0              0   \n",
       "2                0               0                       0              0   \n",
       "3                0               0                       0              0   \n",
       "4                0               0                       0              0   \n",
       "\n",
       "  PULMONARY_DISEASE  \n",
       "0                NO  \n",
       "1               YES  \n",
       "2                NO  \n",
       "3               YES  \n",
       "4               YES  "
      ]
     },
     "execution_count": 3,
     "metadata": {},
     "output_type": "execute_result"
    }
   ],
   "source": [
    "df = pd.read_csv(\"/kaggle/input/lung-cancer-prediction-dataset/Lung Cancer Dataset.csv\")\n",
    "print(\"Shape of DF\",df.shape)\n",
    "df.head()"
   ]
  },
  {
   "cell_type": "markdown",
   "id": "ab47b168",
   "metadata": {
    "papermill": {
     "duration": 0.006017,
     "end_time": "2025-03-12T18:37:23.127995",
     "exception": false,
     "start_time": "2025-03-12T18:37:23.121978",
     "status": "completed"
    },
    "tags": []
   },
   "source": [
    "**Task 1.2** Inspect DataFrame"
   ]
  },
  {
   "cell_type": "code",
   "execution_count": 4,
   "id": "4ed8861a",
   "metadata": {
    "execution": {
     "iopub.execute_input": "2025-03-12T18:37:23.142003Z",
     "iopub.status.busy": "2025-03-12T18:37:23.141664Z",
     "iopub.status.idle": "2025-03-12T18:37:23.173339Z",
     "shell.execute_reply": "2025-03-12T18:37:23.172276Z"
    },
    "papermill": {
     "duration": 0.040397,
     "end_time": "2025-03-12T18:37:23.174672",
     "exception": false,
     "start_time": "2025-03-12T18:37:23.134275",
     "status": "completed"
    },
    "tags": []
   },
   "outputs": [
    {
     "name": "stdout",
     "output_type": "stream",
     "text": [
      "<class 'pandas.core.frame.DataFrame'>\n",
      "RangeIndex: 5000 entries, 0 to 4999\n",
      "Data columns (total 18 columns):\n",
      " #   Column                  Non-Null Count  Dtype  \n",
      "---  ------                  --------------  -----  \n",
      " 0   AGE                     5000 non-null   int64  \n",
      " 1   GENDER                  5000 non-null   int64  \n",
      " 2   SMOKING                 5000 non-null   int64  \n",
      " 3   FINGER_DISCOLORATION    5000 non-null   int64  \n",
      " 4   MENTAL_STRESS           5000 non-null   int64  \n",
      " 5   EXPOSURE_TO_POLLUTION   5000 non-null   int64  \n",
      " 6   LONG_TERM_ILLNESS       5000 non-null   int64  \n",
      " 7   ENERGY_LEVEL            5000 non-null   float64\n",
      " 8   IMMUNE_WEAKNESS         5000 non-null   int64  \n",
      " 9   BREATHING_ISSUE         5000 non-null   int64  \n",
      " 10  ALCOHOL_CONSUMPTION     5000 non-null   int64  \n",
      " 11  THROAT_DISCOMFORT       5000 non-null   int64  \n",
      " 12  OXYGEN_SATURATION       5000 non-null   float64\n",
      " 13  CHEST_TIGHTNESS         5000 non-null   int64  \n",
      " 14  FAMILY_HISTORY          5000 non-null   int64  \n",
      " 15  SMOKING_FAMILY_HISTORY  5000 non-null   int64  \n",
      " 16  STRESS_IMMUNE           5000 non-null   int64  \n",
      " 17  PULMONARY_DISEASE       5000 non-null   object \n",
      "dtypes: float64(2), int64(15), object(1)\n",
      "memory usage: 703.2+ KB\n"
     ]
    }
   ],
   "source": [
    "df.info()"
   ]
  },
  {
   "cell_type": "markdown",
   "id": "0bb13fc2",
   "metadata": {
    "papermill": {
     "duration": 0.00595,
     "end_time": "2025-03-12T18:37:23.187216",
     "exception": false,
     "start_time": "2025-03-12T18:37:23.181266",
     "status": "completed"
    },
    "tags": []
   },
   "source": [
    "# Exploratory Data Analysis"
   ]
  },
  {
   "cell_type": "markdown",
   "id": "cdb858f1",
   "metadata": {
    "papermill": {
     "duration": 0.006168,
     "end_time": "2025-03-12T18:37:23.199773",
     "exception": false,
     "start_time": "2025-03-12T18:37:23.193605",
     "status": "completed"
    },
    "tags": []
   },
   "source": [
    "**Task 2.1** Convert Target `PULMONARY_DISEASE` From Object to int "
   ]
  },
  {
   "cell_type": "code",
   "execution_count": 5,
   "id": "52420e67",
   "metadata": {
    "execution": {
     "iopub.execute_input": "2025-03-12T18:37:23.213314Z",
     "iopub.status.busy": "2025-03-12T18:37:23.213006Z",
     "iopub.status.idle": "2025-03-12T18:37:23.219452Z",
     "shell.execute_reply": "2025-03-12T18:37:23.218595Z"
    },
    "papermill": {
     "duration": 0.014681,
     "end_time": "2025-03-12T18:37:23.220757",
     "exception": false,
     "start_time": "2025-03-12T18:37:23.206076",
     "status": "completed"
    },
    "tags": []
   },
   "outputs": [],
   "source": [
    "df[\"PULMONARY_DISEASE\"] = df[\"PULMONARY_DISEASE\"].replace({\"NO\":0,\"YES\":1})"
   ]
  },
  {
   "cell_type": "markdown",
   "id": "ec4bc7ee",
   "metadata": {
    "papermill": {
     "duration": 0.006823,
     "end_time": "2025-03-12T18:37:23.234222",
     "exception": false,
     "start_time": "2025-03-12T18:37:23.227399",
     "status": "completed"
    },
    "tags": []
   },
   "source": [
    "**Task 2.2** Plot Histogram of `Age` of Participants"
   ]
  },
  {
   "cell_type": "code",
   "execution_count": 6,
   "id": "d1a1674f",
   "metadata": {
    "execution": {
     "iopub.execute_input": "2025-03-12T18:37:23.248144Z",
     "iopub.status.busy": "2025-03-12T18:37:23.247795Z",
     "iopub.status.idle": "2025-03-12T18:37:23.590261Z",
     "shell.execute_reply": "2025-03-12T18:37:23.589555Z"
    },
    "papermill": {
     "duration": 0.350894,
     "end_time": "2025-03-12T18:37:23.591436",
     "exception": false,
     "start_time": "2025-03-12T18:37:23.240542",
     "status": "completed"
    },
    "tags": []
   },
   "outputs": [
    {
     "data": {
      "image/png": "[encoded data removed]",
      "text/plain": [
       "<Figure size 640x480 with 1 Axes>"
      ]
     },
     "metadata": {},
     "output_type": "display_data"
    }
   ],
   "source": [
    "#Disribution OF Age\n",
    "sns.histplot(df[\"AGE\"],kde=True,color = \"lightcoral\")\n",
    "plt.title(\"Distribution Of Age\")\n",
    "plt.xlabel('AGE')\n",
    "plt.ylabel(\"Frequency [COUNT]\");"
   ]
  },
  {
   "cell_type": "markdown",
   "id": "b5d0e8f3",
   "metadata": {
    "papermill": {
     "duration": 0.007225,
     "end_time": "2025-03-12T18:37:23.606002",
     "exception": false,
     "start_time": "2025-03-12T18:37:23.598777",
     "status": "completed"
    },
    "tags": []
   },
   "source": [
    "**Task 2.3** Plot the Distribution of `Gender` Among Participants"
   ]
  },
  {
   "cell_type": "code",
   "execution_count": 7,
   "id": "2adf630f",
   "metadata": {
    "execution": {
     "iopub.execute_input": "2025-03-12T18:37:23.620369Z",
     "iopub.status.busy": "2025-03-12T18:37:23.620077Z",
     "iopub.status.idle": "2025-03-12T18:37:23.750271Z",
     "shell.execute_reply": "2025-03-12T18:37:23.749275Z"
    },
    "papermill": {
     "duration": 0.139114,
     "end_time": "2025-03-12T18:37:23.751820",
     "exception": false,
     "start_time": "2025-03-12T18:37:23.612706",
     "status": "completed"
    },
    "tags": []
   },
   "outputs": [
    {
     "data": {
      "image/png": "[encoded data removed]",
      "text/plain": [
       "<Figure size 640x480 with 1 Axes>"
      ]
     },
     "metadata": {},
     "output_type": "display_data"
    }
   ],
   "source": [
    "#Distribution Of Gender\n",
    "sns.countplot(x=\"GENDER\",data=df, palette = \"Pastel1\")\n",
    "plt.title(\"Distribution OF Gender\")\n",
    "plt.xlabel(\"Gender: 0 = Female | 1 = Male\")\n",
    "plt.ylabel(\"Frequency [COUNTS]\");"
   ]
  },
  {
   "cell_type": "markdown",
   "id": "b3fc514b",
   "metadata": {
    "papermill": {
     "duration": 0.006649,
     "end_time": "2025-03-12T18:37:23.765836",
     "exception": false,
     "start_time": "2025-03-12T18:37:23.759187",
     "status": "completed"
    },
    "tags": []
   },
   "source": [
    "**Task 2.4** Plot Relation between `SMOKING` and Target, through a side by side Barchart"
   ]
  },
  {
   "cell_type": "code",
   "execution_count": 8,
   "id": "67751d40",
   "metadata": {
    "execution": {
     "iopub.execute_input": "2025-03-12T18:37:23.781923Z",
     "iopub.status.busy": "2025-03-12T18:37:23.781600Z",
     "iopub.status.idle": "2025-03-12T18:37:24.051175Z",
     "shell.execute_reply": "2025-03-12T18:37:24.050067Z"
    },
    "papermill": {
     "duration": 0.28042,
     "end_time": "2025-03-12T18:37:24.053074",
     "exception": false,
     "start_time": "2025-03-12T18:37:23.772654",
     "status": "completed"
    },
    "tags": []
   },
   "outputs": [
    {
     "data": {
      "image/png": "[encoded data removed]",
      "text/plain": [
       "<Figure size 640x480 with 1 Axes>"
      ]
     },
     "metadata": {},
     "output_type": "display_data"
    }
   ],
   "source": [
    "#Smoking And Lung Cancer\n",
    "sns.countplot(x=\"SMOKING\",hue=\"PULMONARY_DISEASE\",data = df,palette = \"Set1\")\n",
    "plt.title(\"Smoking Vs Lung Cancer\")\n",
    "plt.xlabel(\"Smoking: 0 = No | 1 = Yes\")\n",
    "plt.ylabel(\"Frequency\");"
   ]
  },
  {
   "cell_type": "markdown",
   "id": "9eadbf74",
   "metadata": {
    "papermill": {
     "duration": 0.009477,
     "end_time": "2025-03-12T18:37:24.073674",
     "exception": false,
     "start_time": "2025-03-12T18:37:24.064197",
     "status": "completed"
    },
    "tags": []
   },
   "source": [
    "**Task 2.5** Plot Relation between `FAMILY HISTORY` and Target, through a side by side Barchart"
   ]
  },
  {
   "cell_type": "code",
   "execution_count": 9,
   "id": "5ce240c9",
   "metadata": {
    "execution": {
     "iopub.execute_input": "2025-03-12T18:37:24.090107Z",
     "iopub.status.busy": "2025-03-12T18:37:24.089802Z",
     "iopub.status.idle": "2025-03-12T18:37:24.238821Z",
     "shell.execute_reply": "2025-03-12T18:37:24.237506Z"
    },
    "papermill": {
     "duration": 0.159334,
     "end_time": "2025-03-12T18:37:24.240628",
     "exception": false,
     "start_time": "2025-03-12T18:37:24.081294",
     "status": "completed"
    },
    "tags": []
   },
   "outputs": [
    {
     "data": {
      "image/png": "[encoded data removed]",
      "text/plain": [
       "<Figure size 640x480 with 1 Axes>"
      ]
     },
     "metadata": {},
     "output_type": "display_data"
    }
   ],
   "source": [
    "#Family History and Lung cancer\n",
    "sns.countplot(x=\"FAMILY_HISTORY\",hue=\"PULMONARY_DISEASE\",data = df,palette = \"Set1\")\n",
    "plt.title(\"Family History Vs Lung Cancer\")\n",
    "plt.xlabel(\"Family History: 0 = No | 1 = Yes\")\n",
    "plt.ylabel(\"Frequency\");"
   ]
  },
  {
   "cell_type": "markdown",
   "id": "33299b44",
   "metadata": {
    "papermill": {
     "duration": 0.007497,
     "end_time": "2025-03-12T18:37:24.256125",
     "exception": false,
     "start_time": "2025-03-12T18:37:24.248628",
     "status": "completed"
    },
    "tags": []
   },
   "source": [
    "**Task 2.6** Plot Relation between `GENDER` and Target, through a side by side Barchart"
   ]
  },
  {
   "cell_type": "code",
   "execution_count": 10,
   "id": "8393f248",
   "metadata": {
    "execution": {
     "iopub.execute_input": "2025-03-12T18:37:24.273824Z",
     "iopub.status.busy": "2025-03-12T18:37:24.273462Z",
     "iopub.status.idle": "2025-03-12T18:37:24.444201Z",
     "shell.execute_reply": "2025-03-12T18:37:24.443312Z"
    },
    "papermill": {
     "duration": 0.180914,
     "end_time": "2025-03-12T18:37:24.445584",
     "exception": false,
     "start_time": "2025-03-12T18:37:24.264670",
     "status": "completed"
    },
    "tags": []
   },
   "outputs": [
    {
     "data": {
      "image/png": "[encoded data removed]",
      "text/plain": [
       "<Figure size 640x480 with 1 Axes>"
      ]
     },
     "metadata": {},
     "output_type": "display_data"
    }
   ],
   "source": [
    "#Gender and Lung Cancer\n",
    "sns.countplot(x=\"GENDER\",hue=\"PULMONARY_DISEASE\",data = df,palette = \"pastel\")\n",
    "plt.title(\"Gender Vs Lung Cancer\")\n",
    "plt.xlabel(\"Gender: 0 = Female | 1 = Male\")\n",
    "plt.ylabel(\"Frequency\");"
   ]
  },
  {
   "cell_type": "markdown",
   "id": "fb6f379a",
   "metadata": {
    "papermill": {
     "duration": 0.007972,
     "end_time": "2025-03-12T18:37:24.462608",
     "exception": false,
     "start_time": "2025-03-12T18:37:24.454636",
     "status": "completed"
    },
    "tags": []
   },
   "source": [
    "# Data Split"
   ]
  },
  {
   "cell_type": "markdown",
   "id": "cdc15cf3",
   "metadata": {
    "papermill": {
     "duration": 0.007936,
     "end_time": "2025-03-12T18:37:24.478715",
     "exception": false,
     "start_time": "2025-03-12T18:37:24.470779",
     "status": "completed"
    },
    "tags": []
   },
   "source": [
    "**Task 3.1** Split Data into Feature Matrix `X` and Target Vector `y`"
   ]
  },
  {
   "cell_type": "code",
   "execution_count": 11,
   "id": "0b0406b1",
   "metadata": {
    "execution": {
     "iopub.execute_input": "2025-03-12T18:37:24.496899Z",
     "iopub.status.busy": "2025-03-12T18:37:24.496614Z",
     "iopub.status.idle": "2025-03-12T18:37:24.504327Z",
     "shell.execute_reply": "2025-03-12T18:37:24.503448Z"
    },
    "papermill": {
     "duration": 0.018349,
     "end_time": "2025-03-12T18:37:24.505536",
     "exception": false,
     "start_time": "2025-03-12T18:37:24.487187",
     "status": "completed"
    },
    "tags": []
   },
   "outputs": [
    {
     "name": "stdout",
     "output_type": "stream",
     "text": [
      "X shape : (5000, 17)\n",
      "y shape : (5000,)\n"
     ]
    }
   ],
   "source": [
    "target = \"PULMONARY_DISEASE\"\n",
    "X = df.drop(columns = target)\n",
    "y = df[target]\n",
    "print(\"X shape :\",X.shape)\n",
    "print(\"y shape :\",y.shape)"
   ]
  },
  {
   "cell_type": "markdown",
   "id": "d6c375ca",
   "metadata": {
    "papermill": {
     "duration": 0.008202,
     "end_time": "2025-03-12T18:37:24.522046",
     "exception": false,
     "start_time": "2025-03-12T18:37:24.513844",
     "status": "completed"
    },
    "tags": []
   },
   "source": [
    "**Task 3.2** Divide Data into `Training` and `Test` sets"
   ]
  },
  {
   "cell_type": "code",
   "execution_count": 12,
   "id": "830a412b",
   "metadata": {
    "execution": {
     "iopub.execute_input": "2025-03-12T18:37:24.541277Z",
     "iopub.status.busy": "2025-03-12T18:37:24.540957Z",
     "iopub.status.idle": "2025-03-12T18:37:24.550360Z",
     "shell.execute_reply": "2025-03-12T18:37:24.549073Z"
    },
    "papermill": {
     "duration": 0.02192,
     "end_time": "2025-03-12T18:37:24.552345",
     "exception": false,
     "start_time": "2025-03-12T18:37:24.530425",
     "status": "completed"
    },
    "tags": []
   },
   "outputs": [
    {
     "name": "stdout",
     "output_type": "stream",
     "text": [
      "X train shape : (4000, 17)\n",
      "y train shape : (4000,)\n",
      "X test shape : (1000, 17)\n",
      "y test shape : (1000,)\n"
     ]
    }
   ],
   "source": [
    "X_train,X_test,y_train,y_test = train_test_split(X,y,test_size=0.2,random_state = 42)\n",
    "print(\"X train shape :\",X_train.shape)\n",
    "print(\"y train shape :\",y_train.shape)\n",
    "print(\"X test shape :\",X_test.shape)\n",
    "print(\"y test shape :\",y_test.shape)"
   ]
  },
  {
   "cell_type": "markdown",
   "id": "162f47b2",
   "metadata": {
    "papermill": {
     "duration": 0.008042,
     "end_time": "2025-03-12T18:37:24.570099",
     "exception": false,
     "start_time": "2025-03-12T18:37:24.562057",
     "status": "completed"
    },
    "tags": []
   },
   "source": [
    "# Logistic Regression "
   ]
  },
  {
   "cell_type": "markdown",
   "id": "0995c9fd",
   "metadata": {
    "papermill": {
     "duration": 0.008482,
     "end_time": "2025-03-12T18:37:24.588120",
     "exception": false,
     "start_time": "2025-03-12T18:37:24.579638",
     "status": "completed"
    },
    "tags": []
   },
   "source": [
    "**Task 4.1** Instantiate Logistic Regression model"
   ]
  },
  {
   "cell_type": "code",
   "execution_count": 13,
   "id": "993be499",
   "metadata": {
    "execution": {
     "iopub.execute_input": "2025-03-12T18:37:24.607114Z",
     "iopub.status.busy": "2025-03-12T18:37:24.606828Z",
     "iopub.status.idle": "2025-03-12T18:37:24.611107Z",
     "shell.execute_reply": "2025-03-12T18:37:24.609864Z"
    },
    "papermill": {
     "duration": 0.015894,
     "end_time": "2025-03-12T18:37:24.613033",
     "exception": false,
     "start_time": "2025-03-12T18:37:24.597139",
     "status": "completed"
    },
    "tags": []
   },
   "outputs": [],
   "source": [
    "lr = LogisticRegression()"
   ]
  },
  {
   "cell_type": "code",
   "execution_count": 14,
   "id": "a0d9be5d",
   "metadata": {
    "execution": {
     "iopub.execute_input": "2025-03-12T18:37:24.631616Z",
     "iopub.status.busy": "2025-03-12T18:37:24.631274Z",
     "iopub.status.idle": "2025-03-12T18:37:29.763364Z",
     "shell.execute_reply": "2025-03-12T18:37:29.761764Z"
    },
    "papermill": {
     "duration": 5.143404,
     "end_time": "2025-03-12T18:37:29.765363",
     "exception": false,
     "start_time": "2025-03-12T18:37:24.621959",
     "status": "completed"
    },
    "tags": []
   },
   "outputs": [
    {
     "name": "stdout",
     "output_type": "stream",
     "text": [
      "Fitting 10 folds for each of 6 candidates, totalling 60 fits\n"
     ]
    },
    {
     "data": {
      "text/html": [
       "<style>#sk-container-id-1 {color: black;background-color: white;}#sk-container-id-1 pre{padding: 0;}#sk-container-id-1 div.sk-toggleable {background-color: white;}#sk-container-id-1 label.sk-toggleable__label {cursor: pointer;display: block;width: 100%;margin-bottom: 0;padding: 0.3em;box-sizing: border-box;text-align: center;}#sk-container-id-1 label.sk-toggleable__label-arrow:before {content: \"▸\";float: left;margin-right: 0.25em;color: #696969;}#sk-container-id-1 label.sk-toggleable__label-arrow:hover:before {color: black;}#sk-container-id-1 div.sk-estimator:hover label.sk-toggleable__label-arrow:before {color: black;}#sk-container-id-1 div.sk-toggleable__content {max-height: 0;max-width: 0;overflow: hidden;text-align: left;background-color: #f0f8ff;}#sk-container-id-1 div.sk-toggleable__content pre {margin: 0.2em;color: black;border-radius: 0.25em;background-color: #f0f8ff;}#sk-container-id-1 input.sk-toggleable__control:checked~div.sk-toggleable__content {max-height: 200px;max-width: 100%;overflow: auto;}#sk-container-id-1 input.sk-toggleable__control:checked~label.sk-toggleable__label-arrow:before {content: \"▾\";}#sk-container-id-1 div.sk-estimator input.sk-toggleable__control:checked~label.sk-toggleable__label {background-color: #d4ebff;}#sk-container-id-1 div.sk-label input.sk-toggleable__control:checked~label.sk-toggleable__label {background-color: #d4ebff;}#sk-container-id-1 input.sk-hidden--visually {border: 0;clip: rect(1px 1px 1px 1px);clip: rect(1px, 1px, 1px, 1px);height: 1px;margin: -1px;overflow: hidden;padding: 0;position: absolute;width: 1px;}#sk-container-id-1 div.sk-estimator {font-family: monospace;background-color: #f0f8ff;border: 1px dotted black;border-radius: 0.25em;box-sizing: border-box;margin-bottom: 0.5em;}#sk-container-id-1 div.sk-estimator:hover {background-color: #d4ebff;}#sk-container-id-1 div.sk-parallel-item::after {content: \"\";width: 100%;border-bottom: 1px solid gray;flex-grow: 1;}#sk-container-id-1 div.sk-label:hover label.sk-toggleable__label {background-color: #d4ebff;}#sk-container-id-1 div.sk-serial::before {content: \"\";position: absolute;border-left: 1px solid gray;box-sizing: border-box;top: 0;bottom: 0;left: 50%;z-index: 0;}#sk-container-id-1 div.sk-serial {display: flex;flex-direction: column;align-items: center;background-color: white;padding-right: 0.2em;padding-left: 0.2em;position: relative;}#sk-container-id-1 div.sk-item {position: relative;z-index: 1;}#sk-container-id-1 div.sk-parallel {display: flex;align-items: stretch;justify-content: center;background-color: white;position: relative;}#sk-container-id-1 div.sk-item::before, #sk-container-id-1 div.sk-parallel-item::before {content: \"\";position: absolute;border-left: 1px solid gray;box-sizing: border-box;top: 0;bottom: 0;left: 50%;z-index: -1;}#sk-container-id-1 div.sk-parallel-item {display: flex;flex-direction: column;z-index: 1;position: relative;background-color: white;}#sk-container-id-1 div.sk-parallel-item:first-child::after {align-self: flex-end;width: 50%;}#sk-container-id-1 div.sk-parallel-item:last-child::after {align-self: flex-start;width: 50%;}#sk-container-id-1 div.sk-parallel-item:only-child::after {width: 0;}#sk-container-id-1 div.sk-dashed-wrapped {border: 1px dashed gray;margin: 0 0.4em 0.5em 0.4em;box-sizing: border-box;padding-bottom: 0.4em;background-color: white;}#sk-container-id-1 div.sk-label label {font-family: monospace;font-weight: bold;display: inline-block;line-height: 1.2em;}#sk-container-id-1 div.sk-label-container {text-align: center;}#sk-container-id-1 div.sk-container {/* jupyter's `normalize.less` sets `[hidden] { display: none; }` but bootstrap.min.css set `[hidden] { display: none !important; }` so we also need the `!important` here to be able to override the default hidden behavior on the sphinx rendered scikit-learn.org. See: https://github.com/scikit-learn/scikit-learn/issues/21755 */display: inline-block !important;position: relative;}#sk-container-id-1 div.sk-text-repr-fallback {display: none;}</style><div id=\"sk-container-id-1\" class=\"sk-top-container\"><div class=\"sk-text-repr-fallback\"><pre>GridSearchCV(cv=10, estimator=LogisticRegression(), n_jobs=-1,\n",
       "             param_grid={&#x27;max_iter&#x27;: [100, 200, 500, 1000, 2000, 5000]},\n",
       "             verbose=1)</pre><b>In a Jupyter environment, please rerun this cell to show the HTML representation or trust the notebook. <br />On GitHub, the HTML representation is unable to render, please try loading this page with nbviewer.org.</b></div><div class=\"sk-container\" hidden><div class=\"sk-item sk-dashed-wrapped\"><div class=\"sk-label-container\"><div class=\"sk-label sk-toggleable\"><input class=\"sk-toggleable__control sk-hidden--visually\" id=\"sk-estimator-id-1\" type=\"checkbox\" ><label for=\"sk-estimator-id-1\" class=\"sk-toggleable__label sk-toggleable__label-arrow\">GridSearchCV</label><div class=\"sk-toggleable__content\"><pre>GridSearchCV(cv=10, estimator=LogisticRegression(), n_jobs=-1,\n",
       "             param_grid={&#x27;max_iter&#x27;: [100, 200, 500, 1000, 2000, 5000]},\n",
       "             verbose=1)</pre></div></div></div><div class=\"sk-parallel\"><div class=\"sk-parallel-item\"><div class=\"sk-item\"><div class=\"sk-label-container\"><div class=\"sk-label sk-toggleable\"><input class=\"sk-toggleable__control sk-hidden--visually\" id=\"sk-estimator-id-2\" type=\"checkbox\" ><label for=\"sk-estimator-id-2\" class=\"sk-toggleable__label sk-toggleable__label-arrow\">estimator: LogisticRegression</label><div class=\"sk-toggleable__content\"><pre>LogisticRegression()</pre></div></div></div><div class=\"sk-serial\"><div class=\"sk-item\"><div class=\"sk-estimator sk-toggleable\"><input class=\"sk-toggleable__control sk-hidden--visually\" id=\"sk-estimator-id-3\" type=\"checkbox\" ><label for=\"sk-estimator-id-3\" class=\"sk-toggleable__label sk-toggleable__label-arrow\">LogisticRegression</label><div class=\"sk-toggleable__content\"><pre>LogisticRegression()</pre></div></div></div></div></div></div></div></div></div></div>"
      ],
      "text/plain": [
       "GridSearchCV(cv=10, estimator=LogisticRegression(), n_jobs=-1,\n",
       "             param_grid={'max_iter': [100, 200, 500, 1000, 2000, 5000]},\n",
       "             verbose=1)"
      ]
     },
     "execution_count": 14,
     "metadata": {},
     "output_type": "execute_result"
    }
   ],
   "source": [
    "params_lr = {\"max_iter\":[100,200,500,1000,2000,5000]}\n",
    "model_lr = GridSearchCV(lr,\n",
    "                        param_grid=params_lr,\n",
    "                        cv=10,\n",
    "                        n_jobs=-1,\n",
    "                        verbose=1)\n",
    "model_lr.fit(X_train,y_train)"
   ]
  },
  {
   "cell_type": "code",
   "execution_count": 15,
   "id": "d52345c8",
   "metadata": {
    "execution": {
     "iopub.execute_input": "2025-03-12T18:37:29.786151Z",
     "iopub.status.busy": "2025-03-12T18:37:29.785790Z",
     "iopub.status.idle": "2025-03-12T18:37:29.790766Z",
     "shell.execute_reply": "2025-03-12T18:37:29.789648Z"
    },
    "papermill": {
     "duration": 0.016867,
     "end_time": "2025-03-12T18:37:29.792412",
     "exception": false,
     "start_time": "2025-03-12T18:37:29.775545",
     "status": "completed"
    },
    "tags": []
   },
   "outputs": [
    {
     "name": "stdout",
     "output_type": "stream",
     "text": [
      "Logistic Model best HyperParameters : {'max_iter': 1000}\n"
     ]
    }
   ],
   "source": [
    "print(\"Logistic Model best HyperParameters :\",model_lr.best_params_)"
   ]
  },
  {
   "cell_type": "markdown",
   "id": "a1ec816c",
   "metadata": {
    "papermill": {
     "duration": 0.008488,
     "end_time": "2025-03-12T18:37:29.810049",
     "exception": false,
     "start_time": "2025-03-12T18:37:29.801561",
     "status": "completed"
    },
    "tags": []
   },
   "source": [
    "**Task 4.2** Calculate Accuracy, Precision and Recall for LR model"
   ]
  },
  {
   "cell_type": "code",
   "execution_count": 16,
   "id": "0ff2c10c",
   "metadata": {
    "execution": {
     "iopub.execute_input": "2025-03-12T18:37:29.828567Z",
     "iopub.status.busy": "2025-03-12T18:37:29.828234Z",
     "iopub.status.idle": "2025-03-12T18:37:29.841910Z",
     "shell.execute_reply": "2025-03-12T18:37:29.840524Z"
    },
    "papermill": {
     "duration": 0.024926,
     "end_time": "2025-03-12T18:37:29.843608",
     "exception": false,
     "start_time": "2025-03-12T18:37:29.818682",
     "status": "completed"
    },
    "tags": []
   },
   "outputs": [
    {
     "name": "stdout",
     "output_type": "stream",
     "text": [
      "Logistic Regression Accuracy : 0.91\n",
      "Logistic Regression Classification Report: \n",
      "               precision    recall  f1-score   support\n",
      "\n",
      "           0       0.93      0.91      0.92       571\n",
      "           1       0.88      0.91      0.90       429\n",
      "\n",
      "    accuracy                           0.91      1000\n",
      "   macro avg       0.91      0.91      0.91      1000\n",
      "weighted avg       0.91      0.91      0.91      1000\n",
      "\n"
     ]
    }
   ],
   "source": [
    "y_pred_lr = model_lr.predict(X_test)\n",
    "\n",
    "accuracy_lr = accuracy_score(y_test,y_pred_lr)\n",
    "print(f\"Logistic Regression Accuracy : {accuracy_lr}\")\n",
    "\n",
    "cr_lr = classification_report(y_test,y_pred_lr)\n",
    "print(\"Logistic Regression Classification Report: \\n\", cr_lr)"
   ]
  },
  {
   "cell_type": "markdown",
   "id": "e72f57df",
   "metadata": {
    "papermill": {
     "duration": 0.008458,
     "end_time": "2025-03-12T18:37:29.861324",
     "exception": false,
     "start_time": "2025-03-12T18:37:29.852866",
     "status": "completed"
    },
    "tags": []
   },
   "source": [
    "**Task 4.3** Plot Confusion Matrix for LR model"
   ]
  },
  {
   "cell_type": "code",
   "execution_count": 17,
   "id": "4b3d88f1",
   "metadata": {
    "execution": {
     "iopub.execute_input": "2025-03-12T18:37:29.880903Z",
     "iopub.status.busy": "2025-03-12T18:37:29.880577Z",
     "iopub.status.idle": "2025-03-12T18:37:30.059334Z",
     "shell.execute_reply": "2025-03-12T18:37:30.058297Z"
    },
    "papermill": {
     "duration": 0.190724,
     "end_time": "2025-03-12T18:37:30.061124",
     "exception": false,
     "start_time": "2025-03-12T18:37:29.870400",
     "status": "completed"
    },
    "tags": []
   },
   "outputs": [
    {
     "data": {
      "image/png": "[encoded data removed]",
      "text/plain": [
       "<Figure size 640x480 with 2 Axes>"
      ]
     },
     "metadata": {},
     "output_type": "display_data"
    }
   ],
   "source": [
    "ConfusionMatrixDisplay.from_estimator(model_lr,X_test,y_test);"
   ]
  },
  {
   "cell_type": "markdown",
   "id": "fc1fa9bf",
   "metadata": {
    "papermill": {
     "duration": 0.008965,
     "end_time": "2025-03-12T18:37:30.080066",
     "exception": false,
     "start_time": "2025-03-12T18:37:30.071101",
     "status": "completed"
    },
    "tags": []
   },
   "source": [
    "# Decision Trees"
   ]
  },
  {
   "cell_type": "markdown",
   "id": "0d114102",
   "metadata": {
    "papermill": {
     "duration": 0.008862,
     "end_time": "2025-03-12T18:37:30.098068",
     "exception": false,
     "start_time": "2025-03-12T18:37:30.089206",
     "status": "completed"
    },
    "tags": []
   },
   "source": [
    "**Task 5.1** Instantiate Decision Tree model"
   ]
  },
  {
   "cell_type": "code",
   "execution_count": 18,
   "id": "05f70561",
   "metadata": {
    "execution": {
     "iopub.execute_input": "2025-03-12T18:37:30.118338Z",
     "iopub.status.busy": "2025-03-12T18:37:30.118053Z",
     "iopub.status.idle": "2025-03-12T18:37:30.122016Z",
     "shell.execute_reply": "2025-03-12T18:37:30.121146Z"
    },
    "papermill": {
     "duration": 0.015725,
     "end_time": "2025-03-12T18:37:30.123339",
     "exception": false,
     "start_time": "2025-03-12T18:37:30.107614",
     "status": "completed"
    },
    "tags": []
   },
   "outputs": [],
   "source": [
    "dt = DecisionTreeClassifier(random_state = 42)"
   ]
  },
  {
   "cell_type": "code",
   "execution_count": 19,
   "id": "f77255d3",
   "metadata": {
    "execution": {
     "iopub.execute_input": "2025-03-12T18:37:30.143610Z",
     "iopub.status.busy": "2025-03-12T18:37:30.143288Z",
     "iopub.status.idle": "2025-03-12T18:37:30.753711Z",
     "shell.execute_reply": "2025-03-12T18:37:30.752563Z"
    },
    "papermill": {
     "duration": 0.62205,
     "end_time": "2025-03-12T18:37:30.754999",
     "exception": false,
     "start_time": "2025-03-12T18:37:30.132949",
     "status": "completed"
    },
    "tags": []
   },
   "outputs": [
    {
     "name": "stdout",
     "output_type": "stream",
     "text": [
      "Fitting 15 folds for each of 6 candidates, totalling 90 fits\n"
     ]
    },
    {
     "data": {
      "text/html": [
       "<style>#sk-container-id-2 {color: black;background-color: white;}#sk-container-id-2 pre{padding: 0;}#sk-container-id-2 div.sk-toggleable {background-color: white;}#sk-container-id-2 label.sk-toggleable__label {cursor: pointer;display: block;width: 100%;margin-bottom: 0;padding: 0.3em;box-sizing: border-box;text-align: center;}#sk-container-id-2 label.sk-toggleable__label-arrow:before {content: \"▸\";float: left;margin-right: 0.25em;color: #696969;}#sk-container-id-2 label.sk-toggleable__label-arrow:hover:before {color: black;}#sk-container-id-2 div.sk-estimator:hover label.sk-toggleable__label-arrow:before {color: black;}#sk-container-id-2 div.sk-toggleable__content {max-height: 0;max-width: 0;overflow: hidden;text-align: left;background-color: #f0f8ff;}#sk-container-id-2 div.sk-toggleable__content pre {margin: 0.2em;color: black;border-radius: 0.25em;background-color: #f0f8ff;}#sk-container-id-2 input.sk-toggleable__control:checked~div.sk-toggleable__content {max-height: 200px;max-width: 100%;overflow: auto;}#sk-container-id-2 input.sk-toggleable__control:checked~label.sk-toggleable__label-arrow:before {content: \"▾\";}#sk-container-id-2 div.sk-estimator input.sk-toggleable__control:checked~label.sk-toggleable__label {background-color: #d4ebff;}#sk-container-id-2 div.sk-label input.sk-toggleable__control:checked~label.sk-toggleable__label {background-color: #d4ebff;}#sk-container-id-2 input.sk-hidden--visually {border: 0;clip: rect(1px 1px 1px 1px);clip: rect(1px, 1px, 1px, 1px);height: 1px;margin: -1px;overflow: hidden;padding: 0;position: absolute;width: 1px;}#sk-container-id-2 div.sk-estimator {font-family: monospace;background-color: #f0f8ff;border: 1px dotted black;border-radius: 0.25em;box-sizing: border-box;margin-bottom: 0.5em;}#sk-container-id-2 div.sk-estimator:hover {background-color: #d4ebff;}#sk-container-id-2 div.sk-parallel-item::after {content: \"\";width: 100%;border-bottom: 1px solid gray;flex-grow: 1;}#sk-container-id-2 div.sk-label:hover label.sk-toggleable__label {background-color: #d4ebff;}#sk-container-id-2 div.sk-serial::before {content: \"\";position: absolute;border-left: 1px solid gray;box-sizing: border-box;top: 0;bottom: 0;left: 50%;z-index: 0;}#sk-container-id-2 div.sk-serial {display: flex;flex-direction: column;align-items: center;background-color: white;padding-right: 0.2em;padding-left: 0.2em;position: relative;}#sk-container-id-2 div.sk-item {position: relative;z-index: 1;}#sk-container-id-2 div.sk-parallel {display: flex;align-items: stretch;justify-content: center;background-color: white;position: relative;}#sk-container-id-2 div.sk-item::before, #sk-container-id-2 div.sk-parallel-item::before {content: \"\";position: absolute;border-left: 1px solid gray;box-sizing: border-box;top: 0;bottom: 0;left: 50%;z-index: -1;}#sk-container-id-2 div.sk-parallel-item {display: flex;flex-direction: column;z-index: 1;position: relative;background-color: white;}#sk-container-id-2 div.sk-parallel-item:first-child::after {align-self: flex-end;width: 50%;}#sk-container-id-2 div.sk-parallel-item:last-child::after {align-self: flex-start;width: 50%;}#sk-container-id-2 div.sk-parallel-item:only-child::after {width: 0;}#sk-container-id-2 div.sk-dashed-wrapped {border: 1px dashed gray;margin: 0 0.4em 0.5em 0.4em;box-sizing: border-box;padding-bottom: 0.4em;background-color: white;}#sk-container-id-2 div.sk-label label {font-family: monospace;font-weight: bold;display: inline-block;line-height: 1.2em;}#sk-container-id-2 div.sk-label-container {text-align: center;}#sk-container-id-2 div.sk-container {/* jupyter's `normalize.less` sets `[hidden] { display: none; }` but bootstrap.min.css set `[hidden] { display: none !important; }` so we also need the `!important` here to be able to override the default hidden behavior on the sphinx rendered scikit-learn.org. See: https://github.com/scikit-learn/scikit-learn/issues/21755 */display: inline-block !important;position: relative;}#sk-container-id-2 div.sk-text-repr-fallback {display: none;}</style><div id=\"sk-container-id-2\" class=\"sk-top-container\"><div class=\"sk-text-repr-fallback\"><pre>GridSearchCV(cv=15, estimator=DecisionTreeClassifier(random_state=42),\n",
       "             n_jobs=-1, param_grid={&#x27;max_depth&#x27;: [5, 10, 20, 30, 40, 50]},\n",
       "             verbose=1)</pre><b>In a Jupyter environment, please rerun this cell to show the HTML representation or trust the notebook. <br />On GitHub, the HTML representation is unable to render, please try loading this page with nbviewer.org.</b></div><div class=\"sk-container\" hidden><div class=\"sk-item sk-dashed-wrapped\"><div class=\"sk-label-container\"><div class=\"sk-label sk-toggleable\"><input class=\"sk-toggleable__control sk-hidden--visually\" id=\"sk-estimator-id-4\" type=\"checkbox\" ><label for=\"sk-estimator-id-4\" class=\"sk-toggleable__label sk-toggleable__label-arrow\">GridSearchCV</label><div class=\"sk-toggleable__content\"><pre>GridSearchCV(cv=15, estimator=DecisionTreeClassifier(random_state=42),\n",
       "             n_jobs=-1, param_grid={&#x27;max_depth&#x27;: [5, 10, 20, 30, 40, 50]},\n",
       "             verbose=1)</pre></div></div></div><div class=\"sk-parallel\"><div class=\"sk-parallel-item\"><div class=\"sk-item\"><div class=\"sk-label-container\"><div class=\"sk-label sk-toggleable\"><input class=\"sk-toggleable__control sk-hidden--visually\" id=\"sk-estimator-id-5\" type=\"checkbox\" ><label for=\"sk-estimator-id-5\" class=\"sk-toggleable__label sk-toggleable__label-arrow\">estimator: DecisionTreeClassifier</label><div class=\"sk-toggleable__content\"><pre>DecisionTreeClassifier(random_state=42)</pre></div></div></div><div class=\"sk-serial\"><div class=\"sk-item\"><div class=\"sk-estimator sk-toggleable\"><input class=\"sk-toggleable__control sk-hidden--visually\" id=\"sk-estimator-id-6\" type=\"checkbox\" ><label for=\"sk-estimator-id-6\" class=\"sk-toggleable__label sk-toggleable__label-arrow\">DecisionTreeClassifier</label><div class=\"sk-toggleable__content\"><pre>DecisionTreeClassifier(random_state=42)</pre></div></div></div></div></div></div></div></div></div></div>"
      ],
      "text/plain": [
       "GridSearchCV(cv=15, estimator=DecisionTreeClassifier(random_state=42),\n",
       "             n_jobs=-1, param_grid={'max_depth': [5, 10, 20, 30, 40, 50]},\n",
       "             verbose=1)"
      ]
     },
     "execution_count": 19,
     "metadata": {},
     "output_type": "execute_result"
    }
   ],
   "source": [
    "param_dt = {\n",
    "    \"max_depth\": [5, 10, 20,30,40,50],     \n",
    "}\n",
    "model_dt = GridSearchCV(dt,param_grid=param_dt,cv=15,n_jobs=-1,verbose=1)\n",
    "model_dt.fit(X_train,y_train)"
   ]
  },
  {
   "cell_type": "code",
   "execution_count": 20,
   "id": "ba5136b1",
   "metadata": {
    "execution": {
     "iopub.execute_input": "2025-03-12T18:37:30.774821Z",
     "iopub.status.busy": "2025-03-12T18:37:30.774454Z",
     "iopub.status.idle": "2025-03-12T18:37:30.779043Z",
     "shell.execute_reply": "2025-03-12T18:37:30.777902Z"
    },
    "papermill": {
     "duration": 0.016251,
     "end_time": "2025-03-12T18:37:30.780594",
     "exception": false,
     "start_time": "2025-03-12T18:37:30.764343",
     "status": "completed"
    },
    "tags": []
   },
   "outputs": [
    {
     "name": "stdout",
     "output_type": "stream",
     "text": [
      "Decision Tree Model best HyperParameters : {'max_depth': 10}\n"
     ]
    }
   ],
   "source": [
    "print(\"Decision Tree Model best HyperParameters :\",model_dt.best_params_)"
   ]
  },
  {
   "cell_type": "code",
   "execution_count": 21,
   "id": "9093167f",
   "metadata": {
    "execution": {
     "iopub.execute_input": "2025-03-12T18:37:30.800216Z",
     "iopub.status.busy": "2025-03-12T18:37:30.799928Z",
     "iopub.status.idle": "2025-03-12T18:37:30.813405Z",
     "shell.execute_reply": "2025-03-12T18:37:30.812507Z"
    },
    "papermill": {
     "duration": 0.02457,
     "end_time": "2025-03-12T18:37:30.814632",
     "exception": false,
     "start_time": "2025-03-12T18:37:30.790062",
     "status": "completed"
    },
    "tags": []
   },
   "outputs": [
    {
     "name": "stdout",
     "output_type": "stream",
     "text": [
      "Decision Tree Accuracy : 0.872\n",
      "Decision Tree Classification Report: \n",
      "               precision    recall  f1-score   support\n",
      "\n",
      "           0       0.89      0.89      0.89       571\n",
      "           1       0.85      0.85      0.85       429\n",
      "\n",
      "    accuracy                           0.87      1000\n",
      "   macro avg       0.87      0.87      0.87      1000\n",
      "weighted avg       0.87      0.87      0.87      1000\n",
      "\n"
     ]
    }
   ],
   "source": [
    "y_pred_dt = model_dt.predict(X_test)\n",
    "\n",
    "accuracy_dt = accuracy_score(y_test,y_pred_dt)\n",
    "print(f\"Decision Tree Accuracy : {accuracy_dt}\")\n",
    "\n",
    "cr_dt = classification_report(y_test,y_pred_dt)\n",
    "print(\"Decision Tree Classification Report: \\n\", cr_dt)"
   ]
  },
  {
   "cell_type": "code",
   "execution_count": 22,
   "id": "7b039b69",
   "metadata": {
    "execution": {
     "iopub.execute_input": "2025-03-12T18:37:30.834204Z",
     "iopub.status.busy": "2025-03-12T18:37:30.833928Z",
     "iopub.status.idle": "2025-03-12T18:37:30.998993Z",
     "shell.execute_reply": "2025-03-12T18:37:30.997716Z"
    },
    "papermill": {
     "duration": 0.17628,
     "end_time": "2025-03-12T18:37:31.000294",
     "exception": false,
     "start_time": "2025-03-12T18:37:30.824014",
     "status": "completed"
    },
    "tags": []
   },
   "outputs": [
    {
     "data": {
      "image/png": "[encoded data removed]",
      "text/plain": [
       "<Figure size 640x480 with 2 Axes>"
      ]
     },
     "metadata": {},
     "output_type": "display_data"
    }
   ],
   "source": [
    "ConfusionMatrixDisplay.from_estimator(model_dt,X_test,y_test);"
   ]
  },
  {
   "cell_type": "markdown",
   "id": "babe3ae3",
   "metadata": {
    "papermill": {
     "duration": 0.009401,
     "end_time": "2025-03-12T18:37:31.019567",
     "exception": false,
     "start_time": "2025-03-12T18:37:31.010166",
     "status": "completed"
    },
    "tags": []
   },
   "source": [
    "# Random Forests"
   ]
  },
  {
   "cell_type": "code",
   "execution_count": 23,
   "id": "f7ba9079",
   "metadata": {
    "execution": {
     "iopub.execute_input": "2025-03-12T18:37:31.040153Z",
     "iopub.status.busy": "2025-03-12T18:37:31.039879Z",
     "iopub.status.idle": "2025-03-12T18:37:31.044089Z",
     "shell.execute_reply": "2025-03-12T18:37:31.043034Z"
    },
    "papermill": {
     "duration": 0.01617,
     "end_time": "2025-03-12T18:37:31.045416",
     "exception": false,
     "start_time": "2025-03-12T18:37:31.029246",
     "status": "completed"
    },
    "tags": []
   },
   "outputs": [],
   "source": [
    "rf = RandomForestClassifier(random_state = 42)\n"
   ]
  },
  {
   "cell_type": "code",
   "execution_count": 24,
   "id": "723af1b1",
   "metadata": {
    "execution": {
     "iopub.execute_input": "2025-03-12T18:37:31.068574Z",
     "iopub.status.busy": "2025-03-12T18:37:31.068203Z",
     "iopub.status.idle": "2025-03-12T18:38:38.277831Z",
     "shell.execute_reply": "2025-03-12T18:38:38.276689Z"
    },
    "papermill": {
     "duration": 67.232804,
     "end_time": "2025-03-12T18:38:38.288508",
     "exception": false,
     "start_time": "2025-03-12T18:37:31.055704",
     "status": "completed"
    },
    "tags": []
   },
   "outputs": [
    {
     "name": "stdout",
     "output_type": "stream",
     "text": [
      "Fitting 10 folds for each of 72 candidates, totalling 720 fits\n"
     ]
    },
    {
     "data": {
      "text/html": [
       "<style>#sk-container-id-3 {color: black;background-color: white;}#sk-container-id-3 pre{padding: 0;}#sk-container-id-3 div.sk-toggleable {background-color: white;}#sk-container-id-3 label.sk-toggleable__label {cursor: pointer;display: block;width: 100%;margin-bottom: 0;padding: 0.3em;box-sizing: border-box;text-align: center;}#sk-container-id-3 label.sk-toggleable__label-arrow:before {content: \"▸\";float: left;margin-right: 0.25em;color: #696969;}#sk-container-id-3 label.sk-toggleable__label-arrow:hover:before {color: black;}#sk-container-id-3 div.sk-estimator:hover label.sk-toggleable__label-arrow:before {color: black;}#sk-container-id-3 div.sk-toggleable__content {max-height: 0;max-width: 0;overflow: hidden;text-align: left;background-color: #f0f8ff;}#sk-container-id-3 div.sk-toggleable__content pre {margin: 0.2em;color: black;border-radius: 0.25em;background-color: #f0f8ff;}#sk-container-id-3 input.sk-toggleable__control:checked~div.sk-toggleable__content {max-height: 200px;max-width: 100%;overflow: auto;}#sk-container-id-3 input.sk-toggleable__control:checked~label.sk-toggleable__label-arrow:before {content: \"▾\";}#sk-container-id-3 div.sk-estimator input.sk-toggleable__control:checked~label.sk-toggleable__label {background-color: #d4ebff;}#sk-container-id-3 div.sk-label input.sk-toggleable__control:checked~label.sk-toggleable__label {background-color: #d4ebff;}#sk-container-id-3 input.sk-hidden--visually {border: 0;clip: rect(1px 1px 1px 1px);clip: rect(1px, 1px, 1px, 1px);height: 1px;margin: -1px;overflow: hidden;padding: 0;position: absolute;width: 1px;}#sk-container-id-3 div.sk-estimator {font-family: monospace;background-color: #f0f8ff;border: 1px dotted black;border-radius: 0.25em;box-sizing: border-box;margin-bottom: 0.5em;}#sk-container-id-3 div.sk-estimator:hover {background-color: #d4ebff;}#sk-container-id-3 div.sk-parallel-item::after {content: \"\";width: 100%;border-bottom: 1px solid gray;flex-grow: 1;}#sk-container-id-3 div.sk-label:hover label.sk-toggleable__label {background-color: #d4ebff;}#sk-container-id-3 div.sk-serial::before {content: \"\";position: absolute;border-left: 1px solid gray;box-sizing: border-box;top: 0;bottom: 0;left: 50%;z-index: 0;}#sk-container-id-3 div.sk-serial {display: flex;flex-direction: column;align-items: center;background-color: white;padding-right: 0.2em;padding-left: 0.2em;position: relative;}#sk-container-id-3 div.sk-item {position: relative;z-index: 1;}#sk-container-id-3 div.sk-parallel {display: flex;align-items: stretch;justify-content: center;background-color: white;position: relative;}#sk-container-id-3 div.sk-item::before, #sk-container-id-3 div.sk-parallel-item::before {content: \"\";position: absolute;border-left: 1px solid gray;box-sizing: border-box;top: 0;bottom: 0;left: 50%;z-index: -1;}#sk-container-id-3 div.sk-parallel-item {display: flex;flex-direction: column;z-index: 1;position: relative;background-color: white;}#sk-container-id-3 div.sk-parallel-item:first-child::after {align-self: flex-end;width: 50%;}#sk-container-id-3 div.sk-parallel-item:last-child::after {align-self: flex-start;width: 50%;}#sk-container-id-3 div.sk-parallel-item:only-child::after {width: 0;}#sk-container-id-3 div.sk-dashed-wrapped {border: 1px dashed gray;margin: 0 0.4em 0.5em 0.4em;box-sizing: border-box;padding-bottom: 0.4em;background-color: white;}#sk-container-id-3 div.sk-label label {font-family: monospace;font-weight: bold;display: inline-block;line-height: 1.2em;}#sk-container-id-3 div.sk-label-container {text-align: center;}#sk-container-id-3 div.sk-container {/* jupyter's `normalize.less` sets `[hidden] { display: none; }` but bootstrap.min.css set `[hidden] { display: none !important; }` so we also need the `!important` here to be able to override the default hidden behavior on the sphinx rendered scikit-learn.org. See: https://github.com/scikit-learn/scikit-learn/issues/21755 */display: inline-block !important;position: relative;}#sk-container-id-3 div.sk-text-repr-fallback {display: none;}</style><div id=\"sk-container-id-3\" class=\"sk-top-container\"><div class=\"sk-text-repr-fallback\"><pre>GridSearchCV(cv=10, estimator=RandomForestClassifier(random_state=42),\n",
       "             n_jobs=-1,\n",
       "             param_grid={&#x27;max_depth&#x27;: [10, 20, 30, None],\n",
       "                         &#x27;max_features&#x27;: [&#x27;auto&#x27;, &#x27;sqrt&#x27;, &#x27;log2&#x27;],\n",
       "                         &#x27;n_estimators&#x27;: [10, 25, 50, 75, 100, 150]},\n",
       "             verbose=1)</pre><b>In a Jupyter environment, please rerun this cell to show the HTML representation or trust the notebook. <br />On GitHub, the HTML representation is unable to render, please try loading this page with nbviewer.org.</b></div><div class=\"sk-container\" hidden><div class=\"sk-item sk-dashed-wrapped\"><div class=\"sk-label-container\"><div class=\"sk-label sk-toggleable\"><input class=\"sk-toggleable__control sk-hidden--visually\" id=\"sk-estimator-id-7\" type=\"checkbox\" ><label for=\"sk-estimator-id-7\" class=\"sk-toggleable__label sk-toggleable__label-arrow\">GridSearchCV</label><div class=\"sk-toggleable__content\"><pre>GridSearchCV(cv=10, estimator=RandomForestClassifier(random_state=42),\n",
       "             n_jobs=-1,\n",
       "             param_grid={&#x27;max_depth&#x27;: [10, 20, 30, None],\n",
       "                         &#x27;max_features&#x27;: [&#x27;auto&#x27;, &#x27;sqrt&#x27;, &#x27;log2&#x27;],\n",
       "                         &#x27;n_estimators&#x27;: [10, 25, 50, 75, 100, 150]},\n",
       "             verbose=1)</pre></div></div></div><div class=\"sk-parallel\"><div class=\"sk-parallel-item\"><div class=\"sk-item\"><div class=\"sk-label-container\"><div class=\"sk-label sk-toggleable\"><input class=\"sk-toggleable__control sk-hidden--visually\" id=\"sk-estimator-id-8\" type=\"checkbox\" ><label for=\"sk-estimator-id-8\" class=\"sk-toggleable__label sk-toggleable__label-arrow\">estimator: RandomForestClassifier</label><div class=\"sk-toggleable__content\"><pre>RandomForestClassifier(random_state=42)</pre></div></div></div><div class=\"sk-serial\"><div class=\"sk-item\"><div class=\"sk-estimator sk-toggleable\"><input class=\"sk-toggleable__control sk-hidden--visually\" id=\"sk-estimator-id-9\" type=\"checkbox\" ><label for=\"sk-estimator-id-9\" class=\"sk-toggleable__label sk-toggleable__label-arrow\">RandomForestClassifier</label><div class=\"sk-toggleable__content\"><pre>RandomForestClassifier(random_state=42)</pre></div></div></div></div></div></div></div></div></div></div>"
      ],
      "text/plain": [
       "GridSearchCV(cv=10, estimator=RandomForestClassifier(random_state=42),\n",
       "             n_jobs=-1,\n",
       "             param_grid={'max_depth': [10, 20, 30, None],\n",
       "                         'max_features': ['auto', 'sqrt', 'log2'],\n",
       "                         'n_estimators': [10, 25, 50, 75, 100, 150]},\n",
       "             verbose=1)"
      ]
     },
     "execution_count": 24,
     "metadata": {},
     "output_type": "execute_result"
    }
   ],
   "source": [
    "params_rf = {\n",
    "    \"n_estimators\": [10, 25, 50,75,100,150],  \n",
    "    \"max_depth\": [10, 20,30, None],\n",
    "    \"max_features\": [\"auto\",\"sqrt\", \"log2\"]  \n",
    "} \n",
    "model_rf = GridSearchCV(rf,\n",
    "                     param_grid=params_rf,\n",
    "                     cv=10,\n",
    "                     n_jobs=-1,\n",
    "                     verbose=1 \n",
    "                    )\n",
    "model_rf.fit(X_train,y_train)"
   ]
  },
  {
   "cell_type": "code",
   "execution_count": 25,
   "id": "efe433b9",
   "metadata": {
    "execution": {
     "iopub.execute_input": "2025-03-12T18:38:38.308674Z",
     "iopub.status.busy": "2025-03-12T18:38:38.308355Z",
     "iopub.status.idle": "2025-03-12T18:38:38.312925Z",
     "shell.execute_reply": "2025-03-12T18:38:38.312021Z"
    },
    "papermill": {
     "duration": 0.016057,
     "end_time": "2025-03-12T18:38:38.314082",
     "exception": false,
     "start_time": "2025-03-12T18:38:38.298025",
     "status": "completed"
    },
    "tags": []
   },
   "outputs": [
    {
     "name": "stdout",
     "output_type": "stream",
     "text": [
      " Random Forest Best HyperParameters: {'max_depth': 10, 'max_features': 'auto', 'n_estimators': 150}\n"
     ]
    }
   ],
   "source": [
    "print(\" Random Forest Best HyperParameters:\", model_rf.best_params_)"
   ]
  },
  {
   "cell_type": "code",
   "execution_count": 26,
   "id": "8efc4392",
   "metadata": {
    "execution": {
     "iopub.execute_input": "2025-03-12T18:38:38.335599Z",
     "iopub.status.busy": "2025-03-12T18:38:38.335276Z",
     "iopub.status.idle": "2025-03-12T18:38:38.370993Z",
     "shell.execute_reply": "2025-03-12T18:38:38.369833Z"
    },
    "papermill": {
     "duration": 0.047884,
     "end_time": "2025-03-12T18:38:38.372220",
     "exception": false,
     "start_time": "2025-03-12T18:38:38.324336",
     "status": "completed"
    },
    "tags": []
   },
   "outputs": [
    {
     "name": "stdout",
     "output_type": "stream",
     "text": [
      "Random Forest Accuracy : 0.911\n",
      "Random Forest Classification Report: \n",
      "               precision    recall  f1-score   support\n",
      "\n",
      "           0       0.92      0.92      0.92       571\n",
      "           1       0.90      0.89      0.90       429\n",
      "\n",
      "    accuracy                           0.91      1000\n",
      "   macro avg       0.91      0.91      0.91      1000\n",
      "weighted avg       0.91      0.91      0.91      1000\n",
      "\n"
     ]
    }
   ],
   "source": [
    "y_pred_rf = model_rf.predict(X_test)\n",
    "accuracy_rf = accuracy_score(y_test,y_pred_rf)\n",
    "print(f\"Random Forest Accuracy : {accuracy_rf}\")\n",
    "\n",
    "cr_rf = classification_report(y_test,y_pred_rf)\n",
    "print(\"Random Forest Classification Report: \\n\", cr_rf)"
   ]
  },
  {
   "cell_type": "code",
   "execution_count": 27,
   "id": "4ea7a9b4",
   "metadata": {
    "execution": {
     "iopub.execute_input": "2025-03-12T18:38:38.393225Z",
     "iopub.status.busy": "2025-03-12T18:38:38.392957Z",
     "iopub.status.idle": "2025-03-12T18:38:38.569574Z",
     "shell.execute_reply": "2025-03-12T18:38:38.568366Z"
    },
    "papermill": {
     "duration": 0.189158,
     "end_time": "2025-03-12T18:38:38.571432",
     "exception": false,
     "start_time": "2025-03-12T18:38:38.382274",
     "status": "completed"
    },
    "tags": []
   },
   "outputs": [
    {
     "data": {
      "image/png": "[encoded data removed]",
      "text/plain": [
       "<Figure size 640x480 with 2 Axes>"
      ]
     },
     "metadata": {},
     "output_type": "display_data"
    }
   ],
   "source": [
    "ConfusionMatrixDisplay.from_estimator(model_rf,X_test,y_test);"
   ]
  },
  {
   "cell_type": "markdown",
   "id": "7d4da22d",
   "metadata": {
    "papermill": {
     "duration": 0.010396,
     "end_time": "2025-03-12T18:38:38.652386",
     "exception": false,
     "start_time": "2025-03-12T18:38:38.641990",
     "status": "completed"
    },
    "tags": []
   },
   "source": [
    "# Feature Importances"
   ]
  },
  {
   "cell_type": "code",
   "execution_count": 28,
   "id": "d6fc5f78",
   "metadata": {
    "execution": {
     "iopub.execute_input": "2025-03-12T18:38:38.674475Z",
     "iopub.status.busy": "2025-03-12T18:38:38.674170Z",
     "iopub.status.idle": "2025-03-12T18:38:38.960200Z",
     "shell.execute_reply": "2025-03-12T18:38:38.958976Z"
    },
    "papermill": {
     "duration": 0.298671,
     "end_time": "2025-03-12T18:38:38.961563",
     "exception": false,
     "start_time": "2025-03-12T18:38:38.662892",
     "status": "completed"
    },
    "tags": []
   },
   "outputs": [
    {
     "data": {
      "image/png": "[encoded data removed]",
      "text/plain": [
       "<Figure size 640x480 with 1 Axes>"
      ]
     },
     "metadata": {},
     "output_type": "display_data"
    }
   ],
   "source": [
    "features = X.columns\n",
    "\n",
    "importances = model_rf.best_estimator_.feature_importances_\n",
    "\n",
    "feat_imp = pd.Series(importances,index=features).sort_values()\n",
    "\n",
    "feat_imp.plot(kind=\"barh\")\n",
    "plt.xlabel(\"Gini Importance\")\n",
    "plt.ylabel(\"Feature\")\n",
    "plt.title(\"Feature Importance\");"
   ]
  },
  {
   "cell_type": "markdown",
   "id": "cadc76c6",
   "metadata": {
    "papermill": {
     "duration": 0.011115,
     "end_time": "2025-03-12T18:38:38.984557",
     "exception": false,
     "start_time": "2025-03-12T18:38:38.973442",
     "status": "completed"
    },
    "tags": []
   },
   "source": [
    "# Model Performance Comparison"
   ]
  },
  {
   "cell_type": "code",
   "execution_count": 29,
   "id": "2a38c05c",
   "metadata": {
    "execution": {
     "iopub.execute_input": "2025-03-12T18:38:39.008370Z",
     "iopub.status.busy": "2025-03-12T18:38:39.008079Z",
     "iopub.status.idle": "2025-03-12T18:38:39.142675Z",
     "shell.execute_reply": "2025-03-12T18:38:39.141646Z"
    },
    "papermill": {
     "duration": 0.148493,
     "end_time": "2025-03-12T18:38:39.144288",
     "exception": false,
     "start_time": "2025-03-12T18:38:38.995795",
     "status": "completed"
    },
    "tags": []
   },
   "outputs": [
    {
     "data": {
      "image/png": "[encoded data removed]",
      "text/plain": [
       "<Figure size 800x500 with 1 Axes>"
      ]
     },
     "metadata": {},
     "output_type": "display_data"
    }
   ],
   "source": [
    "model_names = [\"Logistic Regression\", \"Decision Tree\", \"Random Forest\"]\n",
    "accuracy_scores = [accuracy_lr, accuracy_dt, accuracy_rf] \n",
    "\n",
    "# Plot\n",
    "plt.figure(figsize=(8, 5))\n",
    "y_pos = np.arange(len(model_names))\n",
    "\n",
    "plt.barh(y_pos, accuracy_scores, color=['blue', 'green', 'orange'])\n",
    "plt.yticks(y_pos, model_names)\n",
    "plt.xlabel(\"Accuracy Score\")\n",
    "plt.title(\"Model Performance Comparison\")\n",
    "\n",
    "# Display values on bars\n",
    "for index, value in enumerate(accuracy_scores):\n",
    "    plt.text(value - 0.05, index, f\"{value:.2f}\", va='center', ha='right', color='white', fontsize=12, fontweight='bold')\n",
    "\n",
    "plt.xlim(0, 1)\n",
    "plt.grid(axis='x', linestyle='--', alpha=0.6)\n",
    "plt.show()"
   ]
  },
  {
   "cell_type": "code",
   "execution_count": null,
   "id": "53d477be",
   "metadata": {
    "papermill": {
     "duration": 0.011768,
     "end_time": "2025-03-12T18:38:39.168598",
     "exception": false,
     "start_time": "2025-03-12T18:38:39.156830",
     "status": "completed"
    },
    "tags": []
   },
   "outputs": [],
   "source": []
  }
 ],
 "metadata": {
  "kaggle": {
   "accelerator": "none",
   "dataSources": [
    {
     "datasetId": 6723424,
     "sourceId": 10827884,
     "sourceType": "datasetVersion"
    }
   ],
   "dockerImageVersionId": 30918,
   "isGpuEnabled": false,
   "isInternetEnabled": false,
   "language": "python",
   "sourceType": "notebook"
  },
  "kernelspec": {
   "display_name": "Python 3",
   "language": "python",
   "name": "python3"
  },
  "language_info": {
   "codemirror_mode": {
    "name": "ipython",
    "version": 3
   },
   "file_extension": ".py",
   "mimetype": "text/x-python",
   "name": "python",
   "nbconvert_exporter": "python",
   "pygments_lexer": "ipython3",
   "version": "3.10.12"
  },
  "papermill": {
   "default_parameters": {},
   "duration": 83.343648,
   "end_time": "2025-03-12T18:38:40.002901",
   "environment_variables": {},
   "exception": null,
   "input_path": "__notebook__.ipynb",
   "output_path": "__notebook__.ipynb",
   "parameters": {},
   "start_time": "2025-03-12T18:37:16.659253",
   "version": "2.6.0"
  }
 },
 "nbformat": 4,
 "nbformat_minor": 5
}
